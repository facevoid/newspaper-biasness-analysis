{
 "cells": [
  {
   "cell_type": "code",
   "execution_count": 1,
   "metadata": {
    "collapsed": true
   },
   "outputs": [],
   "source": [
    "import json\n",
    "import glob\n",
    "import matplotlib.pyplot as plt\n",
    "import traceback\n",
    "from gensim.models import KeyedVectors\n",
    "from calculate_distance import CalculateDistance\n",
    "from word_sets import ISLAMIC_WORDS, GENERAL_WORDS, PROGRESSIVE_WORDS, RADICAL_WORDS\n",
    "from word_sets import GENERAL_WORDS_ENGLISH, PROGRESSIVE_WORDS_ENGLISH\n",
    "from utils import populate_b2e_dict_for_words\n",
    "from plot_utils import get_association_subplot\n"
   ]
  },
  {
   "cell_type": "markdown",
   "metadata": {},
   "source": [
    "# Select target group \n",
    "    - Progressive occupation list \n",
    "    - General occupation list \n",
    "# Reference word group\n",
    "    - islamic word list \n",
    "    - radical word list "
   ]
  },
  {
   "cell_type": "code",
   "execution_count": 2,
   "metadata": {
    "collapsed": true
   },
   "outputs": [],
   "source": [
    "target_groups = [PROGRESSIVE_WORDS, GENERAL_WORDS]\n",
    "target_group_labels = ['progressive_occupation', 'general_occupation']\n",
    "\n",
    "reference_groups = [ISLAMIC_WORDS, RADICAL_WORDS]\n",
    "reference_group_labels = ['islamic', 'radical']\n",
    "\n",
    "b2e_dict = populate_b2e_dict_for_words(PROGRESSIVE_WORDS + GENERAL_WORDS, PROGRESSIVE_WORDS_ENGLISH + GENERAL_WORDS_ENGLISH)\n",
    "\n"
   ]
  },
  {
   "cell_type": "markdown",
   "metadata": {},
   "source": [
    "# CalculateDistance instalce"
   ]
  },
  {
   "cell_type": "markdown",
   "metadata": {},
   "source": []
  },
  {
   "cell_type": "code",
   "execution_count": 3,
   "metadata": {
    "collapsed": true
   },
   "outputs": [],
   "source": [
    "calculate_association_distance = CalculateDistance()\n",
    "calculate_association_distance.set_target_word_groups(target_word_groups=target_groups, target_group_labels=target_group_labels)\n",
    "calculate_association_distance.set_reference_word_groups(reference_word_groups=reference_groups, reference_group_labels=reference_group_labels)\n"
   ]
  },
  {
   "cell_type": "markdown",
   "metadata": {},
   "source": [
    "# Calculate association on each embedding\n",
    "  ## FOR model in models:\n",
    "        FOR target_group in target_groups:\n",
    "          FOR reference_group in reference_groups:\n",
    "            Calculate centroid of the reference_group\n",
    "            FOR word in target_group:\n",
    "              compute distance between word and the centroid of the reference_group\n",
    "        "
   ]
  },
  {
   "cell_type": "code",
   "execution_count": 4,
   "metadata": {},
   "outputs": [
    {
     "name": "stdout",
     "output_type": "stream",
     "text": [
      "[['সালাত', 'আল্লাহ', 'রাসুল', 'নবী', 'মুসলিম', 'ইসলাম', 'নামাজ', 'ঈদ', 'ঈমান', 'হিজাব'], ['কাফির', 'নাস্তিক', 'ব্লগার', 'ধর্মদ্রোহী', 'দুর্বৃত্ত', 'অবিশ্বাসী', 'বদমাশ', 'ব্যভিচারী']]\n",
      "['../newspaper_embedding/models/newspaper-wise/txt/bd-pratidin_300_model.txt', '../newspaper_embedding/models/newspaper-wise/txt/kalerkantho_300_model.txt', '../newspaper_embedding/models/newspaper-wise/txt/mzamin_300_model.txt', '../newspaper_embedding/models/newspaper-wise/txt/prothoma_alo_300_model.txt', '../newspaper_embedding/models/newspaper-wise/txt/samakal_300_model.txt', '../newspaper_embedding/models/newspaper-wise/txt/top_five_newspaper_300_model.txt']\n",
      "../newspaper_embedding/models/newspaper-wise/txt/bd-pratidin_300_model.txt\n"
     ]
    },
    {
     "ename": "TypeError",
     "evalue": "Invalid number of arguments passed to legend. Please specify either 0 args, 2 args (artist handles, figure labels) or 3 args (artist handles, figure labels, legend location)",
     "output_type": "error",
     "traceback": [
      "\u001b[0;31m---------------------------------------------------------------------------\u001b[0m",
      "\u001b[0;31mTypeError\u001b[0m                                 Traceback (most recent call last)",
      "\u001b[0;32m<ipython-input-4-f12099d55420>\u001b[0m in \u001b[0;36m<module>\u001b[0;34m()\u001b[0m\n\u001b[1;32m     11\u001b[0m     \u001b[0mtarget_wise_association_for_this_paper\u001b[0m \u001b[0;34m=\u001b[0m \u001b[0mcalculate_association_distance\u001b[0m\u001b[0;34m.\u001b[0m\u001b[0mget_association_for_provided_embedding\u001b[0m\u001b[0;34m(\u001b[0m\u001b[0mmodel\u001b[0m\u001b[0;34m=\u001b[0m\u001b[0mmodel\u001b[0m\u001b[0;34m)\u001b[0m\u001b[0;34m\u001b[0m\u001b[0m\n\u001b[1;32m     12\u001b[0m     \u001b[0massociation_dict\u001b[0m\u001b[0;34m[\u001b[0m\u001b[0mnewspaper_name\u001b[0m\u001b[0;34m]\u001b[0m \u001b[0;34m=\u001b[0m \u001b[0mtarget_wise_association_for_this_paper\u001b[0m\u001b[0;34m\u001b[0m\u001b[0m\n\u001b[0;32m---> 13\u001b[0;31m     \u001b[0mget_association_subplot\u001b[0m\u001b[0;34m(\u001b[0m\u001b[0mtarget_wise_association_for_this_paper\u001b[0m\u001b[0;34m=\u001b[0m\u001b[0mtarget_wise_association_for_this_paper\u001b[0m\u001b[0;34m,\u001b[0m \u001b[0mb2e_dict\u001b[0m \u001b[0;34m=\u001b[0m \u001b[0mb2e_dict\u001b[0m\u001b[0;34m,\u001b[0m \u001b[0mtitle\u001b[0m\u001b[0;34m=\u001b[0m \u001b[0mnewspaper_name\u001b[0m\u001b[0;34m)\u001b[0m\u001b[0;34m\u001b[0m\u001b[0m\n\u001b[0m\u001b[1;32m     14\u001b[0m     \u001b[0;31m# print('file {} done'.format(filename))\u001b[0m\u001b[0;34m\u001b[0m\u001b[0;34m\u001b[0m\u001b[0m\n",
      "\u001b[0;32m/home/saurav_workspace/newspaper-biasness-analysis/plot_utils.py\u001b[0m in \u001b[0;36mget_association_subplot\u001b[0;34m(target_wise_association_for_this_paper, b2e_dict, title)\u001b[0m\n\u001b[1;32m     38\u001b[0m             color=colors[1], linewidth=2)\n\u001b[1;32m     39\u001b[0m             \u001b[0mplt\u001b[0m\u001b[0;34m.\u001b[0m\u001b[0msetp\u001b[0m\u001b[0;34m(\u001b[0m\u001b[0mcol\u001b[0m\u001b[0;34m.\u001b[0m\u001b[0mget_xticklabels\u001b[0m\u001b[0;34m(\u001b[0m\u001b[0;34m)\u001b[0m\u001b[0;34m,\u001b[0m \u001b[0mrotation\u001b[0m\u001b[0;34m=\u001b[0m\u001b[0;36m45\u001b[0m\u001b[0;34m,\u001b[0m \u001b[0mhorizontalalignment\u001b[0m\u001b[0;34m=\u001b[0m\u001b[0;34m'right'\u001b[0m\u001b[0;34m)\u001b[0m\u001b[0;34m\u001b[0m\u001b[0m\n\u001b[0;32m---> 40\u001b[0;31m     \u001b[0mfig\u001b[0m\u001b[0;34m.\u001b[0m\u001b[0mlegend\u001b[0m\u001b[0;34m(\u001b[0m\u001b[0mlist\u001b[0m\u001b[0;34m(\u001b[0m\u001b[0mtarget_wise_association_for_this_paper\u001b[0m\u001b[0;34m[\u001b[0m\u001b[0mtarget_key\u001b[0m\u001b[0;34m]\u001b[0m\u001b[0;34m.\u001b[0m\u001b[0mkeys\u001b[0m\u001b[0;34m(\u001b[0m\u001b[0;34m)\u001b[0m\u001b[0;34m)\u001b[0m\u001b[0;34m,\u001b[0m \u001b[0mloc\u001b[0m\u001b[0;34m=\u001b[0m\u001b[0;34m'upper right'\u001b[0m\u001b[0;34m)\u001b[0m\u001b[0;34m\u001b[0m\u001b[0m\n\u001b[0m\u001b[1;32m     41\u001b[0m     \u001b[0mplt\u001b[0m\u001b[0;34m.\u001b[0m\u001b[0mtitle\u001b[0m\u001b[0;34m(\u001b[0m\u001b[0mtitle\u001b[0m\u001b[0;34m)\u001b[0m\u001b[0;34m\u001b[0m\u001b[0m\n\u001b[1;32m     42\u001b[0m     \u001b[0mplt\u001b[0m\u001b[0;34m.\u001b[0m\u001b[0mshow\u001b[0m\u001b[0;34m(\u001b[0m\u001b[0;34m)\u001b[0m\u001b[0;34m\u001b[0m\u001b[0m\n",
      "\u001b[0;32m~/miniconda3/envs/ner/lib/python3.6/site-packages/matplotlib/figure.py\u001b[0m in \u001b[0;36mlegend\u001b[0;34m(self, *args, **kwargs)\u001b[0m\n\u001b[1;32m   1518\u001b[0m \u001b[0;34m\u001b[0m\u001b[0m\n\u001b[1;32m   1519\u001b[0m         \u001b[0;32melse\u001b[0m\u001b[0;34m:\u001b[0m\u001b[0;34m\u001b[0m\u001b[0m\n\u001b[0;32m-> 1520\u001b[0;31m             raise TypeError('Invalid number of arguments passed to legend. '\n\u001b[0m\u001b[1;32m   1521\u001b[0m                             \u001b[0;34m'Please specify either 0 args, 2 args '\u001b[0m\u001b[0;34m\u001b[0m\u001b[0m\n\u001b[1;32m   1522\u001b[0m                             \u001b[0;34m'(artist handles, figure labels) or 3 args '\u001b[0m\u001b[0;34m\u001b[0m\u001b[0m\n",
      "\u001b[0;31mTypeError\u001b[0m: Invalid number of arguments passed to legend. Please specify either 0 args, 2 args (artist handles, figure labels) or 3 args (artist handles, figure labels, legend location)"
     ]
    }
   ],
   "source": [
    "association_dict = {}\n",
    "print(reference_groups)\n",
    "model_dir = '../newspaper_embedding/models/newspaper-wise/txt/'\n",
    "filenames = glob.glob(model_dir + '*txt')\n",
    "print(filenames)\n",
    "for filename in filenames:\n",
    "    print(filename)\n",
    "    newspaper_name = filename.split('/')[-1].split('_')[0]\n",
    "    target_wise_association_for_this_paper = {}\n",
    "    model = KeyedVectors.load_word2vec_format(filename, binary=False)\n",
    "    target_wise_association_for_this_paper = calculate_association_distance.get_association_for_provided_embedding(model=model)\n",
    "    association_dict[newspaper_name] = target_wise_association_for_this_paper\n",
    "    get_association_subplot(target_wise_association_for_this_paper=target_wise_association_for_this_paper, b2e_dict = b2e_dict, title= newspaper_name)\n",
    "    # print('file {} done'.format(filename))"
   ]
  },
  {
   "cell_type": "code",
   "execution_count": null,
   "metadata": {
    "collapsed": true
   },
   "outputs": [],
   "source": []
  }
 ],
 "metadata": {
  "file_extension": ".py",
  "kernelspec": {
   "display_name": "Python 3",
   "language": "python",
   "name": "python3"
  },
  "language_info": {
   "codemirror_mode": {
    "name": "ipython",
    "version": 3
   },
   "file_extension": ".py",
   "mimetype": "text/x-python",
   "name": "python",
   "nbconvert_exporter": "python",
   "pygments_lexer": "ipython3",
   "version": "3.6.3"
  },
  "mimetype": "text/x-python",
  "name": "python",
  "npconvert_exporter": "python",
  "pygments_lexer": "ipython3",
  "version": 3
 },
 "nbformat": 4,
 "nbformat_minor": 2
}
